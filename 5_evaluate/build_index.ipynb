{
  "cells": [
    {
      "cell_type": "code",
      "execution_count": null,
      "metadata": {
        "colab": {
          "base_uri": "https://localhost:8080/"
        },
        "id": "NNLIwXiJtYhe",
        "outputId": "51691590-7353-4ea3-d4e9-c22af3c80c17"
      },
      "outputs": [
        {
          "output_type": "stream",
          "name": "stdout",
          "text": [
            "Collecting faiss-gpu\n",
            "  Downloading faiss_gpu-1.7.2-cp310-cp310-manylinux_2_17_x86_64.manylinux2014_x86_64.whl (85.5 MB)\n",
            "\u001b[2K     \u001b[90m━━━━━━━━━━━━━━━━━━━━━━━━━━━━━━━━━━━━━━━━\u001b[0m \u001b[32m85.5/85.5 MB\u001b[0m \u001b[31m15.1 MB/s\u001b[0m eta \u001b[36m0:00:00\u001b[0m\n",
            "\u001b[?25hInstalling collected packages: faiss-gpu\n",
            "Successfully installed faiss-gpu-1.7.2\n",
            "Collecting pytorch_metric_learning\n",
            "  Downloading pytorch_metric_learning-2.3.0-py3-none-any.whl (115 kB)\n",
            "\u001b[2K     \u001b[90m━━━━━━━━━━━━━━━━━━━━━━━━━━━━━━━━━━━━━━━━\u001b[0m \u001b[32m115.3/115.3 kB\u001b[0m \u001b[31m3.9 MB/s\u001b[0m eta \u001b[36m0:00:00\u001b[0m\n",
            "\u001b[?25hRequirement already satisfied: numpy in /usr/local/lib/python3.10/dist-packages (from pytorch_metric_learning) (1.23.5)\n",
            "Requirement already satisfied: scikit-learn in /usr/local/lib/python3.10/dist-packages (from pytorch_metric_learning) (1.2.2)\n",
            "Requirement already satisfied: tqdm in /usr/local/lib/python3.10/dist-packages (from pytorch_metric_learning) (4.66.1)\n",
            "Requirement already satisfied: torch>=1.6.0 in /usr/local/lib/python3.10/dist-packages (from pytorch_metric_learning) (2.1.0+cu118)\n",
            "Requirement already satisfied: filelock in /usr/local/lib/python3.10/dist-packages (from torch>=1.6.0->pytorch_metric_learning) (3.12.4)\n",
            "Requirement already satisfied: typing-extensions in /usr/local/lib/python3.10/dist-packages (from torch>=1.6.0->pytorch_metric_learning) (4.5.0)\n",
            "Requirement already satisfied: sympy in /usr/local/lib/python3.10/dist-packages (from torch>=1.6.0->pytorch_metric_learning) (1.12)\n",
            "Requirement already satisfied: networkx in /usr/local/lib/python3.10/dist-packages (from torch>=1.6.0->pytorch_metric_learning) (3.2)\n",
            "Requirement already satisfied: jinja2 in /usr/local/lib/python3.10/dist-packages (from torch>=1.6.0->pytorch_metric_learning) (3.1.2)\n",
            "Requirement already satisfied: fsspec in /usr/local/lib/python3.10/dist-packages (from torch>=1.6.0->pytorch_metric_learning) (2023.6.0)\n",
            "Requirement already satisfied: triton==2.1.0 in /usr/local/lib/python3.10/dist-packages (from torch>=1.6.0->pytorch_metric_learning) (2.1.0)\n",
            "Requirement already satisfied: scipy>=1.3.2 in /usr/local/lib/python3.10/dist-packages (from scikit-learn->pytorch_metric_learning) (1.11.3)\n",
            "Requirement already satisfied: joblib>=1.1.1 in /usr/local/lib/python3.10/dist-packages (from scikit-learn->pytorch_metric_learning) (1.3.2)\n",
            "Requirement already satisfied: threadpoolctl>=2.0.0 in /usr/local/lib/python3.10/dist-packages (from scikit-learn->pytorch_metric_learning) (3.2.0)\n",
            "Requirement already satisfied: MarkupSafe>=2.0 in /usr/local/lib/python3.10/dist-packages (from jinja2->torch>=1.6.0->pytorch_metric_learning) (2.1.3)\n",
            "Requirement already satisfied: mpmath>=0.19 in /usr/local/lib/python3.10/dist-packages (from sympy->torch>=1.6.0->pytorch_metric_learning) (1.3.0)\n",
            "Installing collected packages: pytorch_metric_learning\n",
            "Successfully installed pytorch_metric_learning-2.3.0\n",
            "Collecting transformers\n",
            "  Downloading transformers-4.34.1-py3-none-any.whl (7.7 MB)\n",
            "\u001b[2K     \u001b[90m━━━━━━━━━━━━━━━━━━━━━━━━━━━━━━━━━━━━━━━━\u001b[0m \u001b[32m7.7/7.7 MB\u001b[0m \u001b[31m30.6 MB/s\u001b[0m eta \u001b[36m0:00:00\u001b[0m\n",
            "\u001b[?25hRequirement already satisfied: filelock in /usr/local/lib/python3.10/dist-packages (from transformers) (3.12.4)\n",
            "Collecting huggingface-hub<1.0,>=0.16.4 (from transformers)\n",
            "  Downloading huggingface_hub-0.18.0-py3-none-any.whl (301 kB)\n",
            "\u001b[2K     \u001b[90m━━━━━━━━━━━━━━━━━━━━━━━━━━━━━━━━━━━━━━━━\u001b[0m \u001b[32m302.0/302.0 kB\u001b[0m \u001b[31m33.7 MB/s\u001b[0m eta \u001b[36m0:00:00\u001b[0m\n",
            "\u001b[?25hRequirement already satisfied: numpy>=1.17 in /usr/local/lib/python3.10/dist-packages (from transformers) (1.23.5)\n",
            "Requirement already satisfied: packaging>=20.0 in /usr/local/lib/python3.10/dist-packages (from transformers) (23.2)\n",
            "Requirement already satisfied: pyyaml>=5.1 in /usr/local/lib/python3.10/dist-packages (from transformers) (6.0.1)\n",
            "Requirement already satisfied: regex!=2019.12.17 in /usr/local/lib/python3.10/dist-packages (from transformers) (2023.6.3)\n",
            "Requirement already satisfied: requests in /usr/local/lib/python3.10/dist-packages (from transformers) (2.31.0)\n",
            "Collecting tokenizers<0.15,>=0.14 (from transformers)\n",
            "  Downloading tokenizers-0.14.1-cp310-cp310-manylinux_2_17_x86_64.manylinux2014_x86_64.whl (3.8 MB)\n",
            "\u001b[2K     \u001b[90m━━━━━━━━━━━━━━━━━━━━━━━━━━━━━━━━━━━━━━━━\u001b[0m \u001b[32m3.8/3.8 MB\u001b[0m \u001b[31m77.1 MB/s\u001b[0m eta \u001b[36m0:00:00\u001b[0m\n",
            "\u001b[?25hCollecting safetensors>=0.3.1 (from transformers)\n",
            "  Downloading safetensors-0.4.0-cp310-cp310-manylinux_2_17_x86_64.manylinux2014_x86_64.whl (1.3 MB)\n",
            "\u001b[2K     \u001b[90m━━━━━━━━━━━━━━━━━━━━━━━━━━━━━━━━━━━━━━━━\u001b[0m \u001b[32m1.3/1.3 MB\u001b[0m \u001b[31m76.1 MB/s\u001b[0m eta \u001b[36m0:00:00\u001b[0m\n",
            "\u001b[?25hRequirement already satisfied: tqdm>=4.27 in /usr/local/lib/python3.10/dist-packages (from transformers) (4.66.1)\n",
            "Requirement already satisfied: fsspec>=2023.5.0 in /usr/local/lib/python3.10/dist-packages (from huggingface-hub<1.0,>=0.16.4->transformers) (2023.6.0)\n",
            "Requirement already satisfied: typing-extensions>=3.7.4.3 in /usr/local/lib/python3.10/dist-packages (from huggingface-hub<1.0,>=0.16.4->transformers) (4.5.0)\n",
            "Collecting huggingface-hub<1.0,>=0.16.4 (from transformers)\n",
            "  Downloading huggingface_hub-0.17.3-py3-none-any.whl (295 kB)\n",
            "\u001b[2K     \u001b[90m━━━━━━━━━━━━━━━━━━━━━━━━━━━━━━━━━━━━━━━━\u001b[0m \u001b[32m295.0/295.0 kB\u001b[0m \u001b[31m38.0 MB/s\u001b[0m eta \u001b[36m0:00:00\u001b[0m\n",
            "\u001b[?25hRequirement already satisfied: charset-normalizer<4,>=2 in /usr/local/lib/python3.10/dist-packages (from requests->transformers) (3.3.1)\n",
            "Requirement already satisfied: idna<4,>=2.5 in /usr/local/lib/python3.10/dist-packages (from requests->transformers) (3.4)\n",
            "Requirement already satisfied: urllib3<3,>=1.21.1 in /usr/local/lib/python3.10/dist-packages (from requests->transformers) (2.0.7)\n",
            "Requirement already satisfied: certifi>=2017.4.17 in /usr/local/lib/python3.10/dist-packages (from requests->transformers) (2023.7.22)\n",
            "Installing collected packages: safetensors, huggingface-hub, tokenizers, transformers\n",
            "Successfully installed huggingface-hub-0.17.3 safetensors-0.4.0 tokenizers-0.14.1 transformers-4.34.1\n"
          ]
        }
      ],
      "source": [
        "!pip install faiss-gpu\n",
        "!pip install pytorch_metric_learning\n",
        "!pip install transformers"
      ]
    },
    {
      "cell_type": "code",
      "execution_count": null,
      "metadata": {
        "id": "gVWQ1z82tk01"
      },
      "outputs": [],
      "source": [
        "import faiss\n",
        "from tqdm import tqdm\n",
        "import numpy as np\n",
        "import pickle as pkl\n",
        "from transformers import AutoModel, AutoTokenizer\n",
        "from sklearn.decomposition import PCA\n",
        "import random"
      ]
    },
    {
      "cell_type": "code",
      "execution_count": null,
      "metadata": {
        "id": "tk3gDzoH_c72"
      },
      "outputs": [],
      "source": [
        "import sys\n",
        "sys.path.append('/content/drive/MyDrive/sapBERT-DUT-cambridge')\n",
        "sapBERT_epochs = 3\n",
        "finetune_epochs = 3\n",
        "finetune_dataset = 'nl_wiki_bel_all'\n",
        "model_directory_path = f'/content/drive/MyDrive/sapBERT-DUT-cambridge/results/medRoBERTa_sapBERT/{sapBERT_epochs}_epoch/ft_{finetune_epochs}_epoch'"
      ]
    },
    {
      "cell_type": "code",
      "execution_count": null,
      "metadata": {
        "id": "7xtVCTiJ4Vy2"
      },
      "outputs": [],
      "source": [
        "cuis = []\n",
        "concepts = []\n",
        "with open('/content/drive/MyDrive/sapBERT-DUT-cambridge/ontologies/umls-dutch_v1.11_with_drugs_filtered-categories.csv') as f:\n",
        "    # skip header\n",
        "    next(f)\n",
        "    for line in f:\n",
        "        cui = line.split(',')[0]\n",
        "        concept = line.split(',')[1]\n",
        "        cuis.append(cui)\n",
        "        concepts.append(concept)"
      ]
    },
    {
      "cell_type": "code",
      "execution_count": null,
      "metadata": {
        "id": "0SHSu9RkA5PT"
      },
      "outputs": [],
      "source": [
        "from src.model_wrapper import (\n",
        "    Model_Wrapper\n",
        ")"
      ]
    },
    {
      "cell_type": "code",
      "execution_count": null,
      "metadata": {
        "id": "X5LMMj5S2YTC"
      },
      "outputs": [],
      "source": [
        "model_wrapper = Model_Wrapper().load_model(\n",
        "        path=f'{model_directory_path}',\n",
        "        max_length=25,\n",
        "        use_cuda=True,\n",
        ")"
      ]
    },
    {
      "cell_type": "code",
      "execution_count": null,
      "metadata": {
        "id": "AKC_6fmNxbRX"
      },
      "outputs": [],
      "source": [
        "def reduce_embedding_dim(embeddings):\n",
        "    pca_train_set = random.sample(list(embeddings), k=int(len(embeddings) * 0.5))\n",
        "    pca = PCA(n_components=256)\n",
        "    pca.fit(pca_train_set)\n",
        "    pkl.dump(pca, open(f'{model_directory_path}/pca', 'wb'))\n",
        "    reduced_embeddings = np.array(pca.transform(embeddings), dtype=np.float32)\n",
        "    return reduced_embeddings"
      ]
    },
    {
      "cell_type": "code",
      "execution_count": null,
      "metadata": {
        "colab": {
          "base_uri": "https://localhost:8080/"
        },
        "id": "jrkROrcdA2cE",
        "outputId": "5d776137-ed22-47fd-8a5c-0428d132d389"
      },
      "outputs": [
        {
          "output_type": "stream",
          "name": "stderr",
          "text": [
            "100%|██████████| 5880/5880 [16:57<00:00,  5.78it/s]\n"
          ]
        }
      ],
      "source": [
        "tokenizer = model_wrapper.get_dense_tokenizer()\n",
        "model = model_wrapper.get_dense_encoder()\n",
        "\n",
        "# tokenizer = AutoTokenizer.from_pretrained('CLTL/MedRoBERTa.nl')\n",
        "# model = AutoModel.from_pretrained('CLTL/MedRoBERTa.nl').to('cuda')\n",
        "\n",
        "bs = 128\n",
        "all_reps = []\n",
        "for i in tqdm(np.arange(0, len(concepts), bs)):\n",
        "    toks = tokenizer.batch_encode_plus(concepts[i:i+bs],\n",
        "                                       padding=\"max_length\",\n",
        "                                       max_length=25,\n",
        "                                       truncation=True,\n",
        "                                       return_tensors=\"pt\")\n",
        "    toks_cuda = {}\n",
        "    for k,v in toks.items():\n",
        "       toks_cuda[k] = v.cuda()\n",
        "    output = model(**toks_cuda)\n",
        "\n",
        "    # output = model(**toks)\n",
        "    cls_rep = output[0][:,0,:]\n",
        "\n",
        "    all_reps.append(cls_rep.cpu().detach().numpy())\n",
        "all_reps_emb = np.concatenate(all_reps, axis=0)\n",
        "\n",
        "pkl.dump(all_reps_emb, open(f'{model_directory_path}/all_reps_emb', \"wb\"))\n"
      ]
    },
    {
      "cell_type": "code",
      "execution_count": null,
      "metadata": {
        "colab": {
          "base_uri": "https://localhost:8080/"
        },
        "id": "cdUC2mX14VMK",
        "outputId": "bc39b073-339b-4d66-840a-25211381cdd3"
      },
      "outputs": [
        {
          "output_type": "stream",
          "name": "stderr",
          "text": [
            "100%|██████████| 753/753 [00:00<00:00, 965.76it/s] \n"
          ]
        }
      ],
      "source": [
        "# Build faiss index from embeddings\n",
        "logging.info(f\"Training index with embedding dim size {cfg.dims} using {faiss.get_num_gpus()} gpus\")\n",
        "embeddings = pkl.load(open(f'{model_directory_path}/all_reps_emb', 'rb'))\n",
        "embeddings = reduce_embedding_dim(embeddings)\n",
        "\n",
        "quantizer = faiss.IndexFlatL2(256)\n",
        "index = faiss.IndexIVFFlat(quantizer, 256, 300)\n",
        "index = faiss.index_cpu_to_all_gpus(index)\n",
        "index.train(embeddings)\n",
        "\n",
        "\n",
        "logging.info(\"Adding dataset embeddings to index\")\n",
        "for i in tqdm(range(0, embeddings.shape[0], 1000)):\n",
        "    index.add(embeddings[i : i + 1000])\n",
        "\n",
        "logging.info(\"Saving index\")\n",
        "faiss.write_index(faiss.index_gpu_to_cpu(index), f'{model_directory_path}/index')\n",
        "\n",
        "logging.info(\"Index built and saved\")"
      ]
    }
  ],
  "metadata": {
    "accelerator": "GPU",
    "colab": {
      "machine_shape": "hm",
      "provenance": []
    },
    "kernelspec": {
      "display_name": "Python 3",
      "name": "python3"
    },
    "language_info": {
      "name": "python"
    }
  },
  "nbformat": 4,
  "nbformat_minor": 0
}