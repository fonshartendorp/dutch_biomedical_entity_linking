{
 "cells": [
  {
   "cell_type": "code",
   "execution_count": null,
   "metadata": {
    "id": "gVWQ1z82tk01"
   },
   "outputs": [],
   "source": [
    "import faiss\n",
    "from tqdm import tqdm\n",
    "import numpy as np\n",
    "import pickle as pkl\n",
    "from transformers import AutoModel, AutoTokenizer\n",
    "from sklearn.decomposition import PCA\n",
    "import random"
   ]
  },
  {
   "cell_type": "code",
   "execution_count": null,
   "metadata": {
    "id": "7xtVCTiJ4Vy2"
   },
   "outputs": [],
   "source": [
    "cuis = []\n",
    "concepts = []\n",
    "with open('umls-dutch_v1.11_with_drugs_filtered-categories.csv') as f:\n",
    "    # skip header\n",
    "    next(f)\n",
    "    for line in f:\n",
    "        cui = line.split(',')[0]\n",
    "        concept = line.split(',')[1]\n",
    "        cuis.append(cui)\n",
    "        concepts.append(concept)"
   ]
  },
  {
   "cell_type": "code",
   "execution_count": null,
   "metadata": {
    "id": "0SHSu9RkA5PT"
   },
   "outputs": [],
   "source": [
    "from src.model_wrapper import (\n",
    "    Model_Wrapper\n",
    ")"
   ]
  },
  {
   "cell_type": "code",
   "execution_count": null,
   "metadata": {
    "id": "X5LMMj5S2YTC"
   },
   "outputs": [],
   "source": [
    "model_wrapper = Model_Wrapper().load_model(\n",
    "        path=f'{model_directory_path}',\n",
    "        max_length=25,\n",
    "        use_cuda=True,\n",
    ")"
   ]
  },
  {
   "cell_type": "code",
   "execution_count": null,
   "metadata": {
    "id": "AKC_6fmNxbRX"
   },
   "outputs": [],
   "source": [
    "def reduce_embedding_dim(embeddings):\n",
    "    pca_train_set = random.sample(list(embeddings), k=int(len(embeddings) * 0.5))\n",
    "    pca = PCA(n_components=256)\n",
    "    pca.fit(pca_train_set)\n",
    "    pkl.dump(pca, open(f'{model_directory_path}/pca', 'wb'))\n",
    "    reduced_embeddings = np.array(pca.transform(embeddings), dtype=np.float32)\n",
    "    return reduced_embeddings"
   ]
  },
  {
   "cell_type": "code",
   "execution_count": null,
   "metadata": {
    "colab": {
     "base_uri": "https://localhost:8080/"
    },
    "id": "jrkROrcdA2cE",
    "outputId": "5d776137-ed22-47fd-8a5c-0428d132d389"
   },
   "outputs": [],
   "source": [
    "tokenizer = model_wrapper.get_dense_tokenizer()\n",
    "model = model_wrapper.get_dense_encoder()\n",
    "\n",
    "bs = 128\n",
    "all_reps = []\n",
    "for i in tqdm(np.arange(0, len(concepts), bs)):\n",
    "    toks = tokenizer.batch_encode_plus(concepts[i:i+bs],\n",
    "                                       padding=\"max_length\",\n",
    "                                       max_length=25,\n",
    "                                       truncation=True,\n",
    "                                       return_tensors=\"pt\")\n",
    "    toks_cuda = {}\n",
    "    for k,v in toks.items():\n",
    "       toks_cuda[k] = v.cuda()\n",
    "    output = model(**toks_cuda)\n",
    "\n",
    "    cls_rep = output[0][:,0,:]\n",
    "\n",
    "    all_reps.append(cls_rep.cpu().detach().numpy())\n",
    "all_reps_emb = np.concatenate(all_reps, axis=0)\n",
    "\n",
    "pkl.dump(all_reps_emb, open(f'{model_directory_path}/all_reps_emb', \"wb\"))\n"
   ]
  },
  {
   "cell_type": "code",
   "execution_count": null,
   "metadata": {
    "colab": {
     "base_uri": "https://localhost:8080/"
    },
    "id": "cdUC2mX14VMK",
    "outputId": "bc39b073-339b-4d66-840a-25211381cdd3"
   },
   "outputs": [],
   "source": [
    "# Build faiss index from embeddings\n",
    "logging.info(f\"Training index with embedding dim size {cfg.dims} using {faiss.get_num_gpus()} gpus\")\n",
    "embeddings = pkl.load(open(f'{model_directory_path}/all_reps_emb', 'rb'))\n",
    "embeddings = reduce_embedding_dim(embeddings)\n",
    "\n",
    "quantizer = faiss.IndexFlatL2(256)\n",
    "index = faiss.IndexIVFFlat(quantizer, 256, 300)\n",
    "index = faiss.index_cpu_to_all_gpus(index)\n",
    "index.train(embeddings)\n",
    "\n",
    "\n",
    "logging.info(\"Adding dataset embeddings to index\")\n",
    "for i in tqdm(range(0, embeddings.shape[0], 1000)):\n",
    "    index.add(embeddings[i : i + 1000])\n",
    "\n",
    "logging.info(\"Saving index\")\n",
    "faiss.write_index(faiss.index_gpu_to_cpu(index), f'{model_directory_path}/index')\n",
    "\n",
    "logging.info(\"Index built and saved\")"
   ]
  }
 ],
 "metadata": {
  "accelerator": "GPU",
  "colab": {
   "machine_shape": "hm",
   "provenance": []
  },
  "kernelspec": {
   "display_name": "Python 3 (ipykernel)",
   "language": "python",
   "name": "python3"
  },
  "language_info": {
   "codemirror_mode": {
    "name": "ipython",
    "version": 3
   },
   "file_extension": ".py",
   "mimetype": "text/x-python",
   "name": "python",
   "nbconvert_exporter": "python",
   "pygments_lexer": "ipython3",
   "version": "3.8.10"
  }
 },
 "nbformat": 4,
 "nbformat_minor": 1
}
