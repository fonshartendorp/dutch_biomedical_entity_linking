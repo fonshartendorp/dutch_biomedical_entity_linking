{
 "cells": [
  {
   "cell_type": "code",
   "execution_count": null,
   "metadata": {
    "id": "7fNLkG95flO7"
   },
   "outputs": [],
   "source": [
    "import faiss\n",
    "from tqdm import tqdm\n",
    "import numpy as np\n",
    "import pickle as pkl\n",
    "from collections import OrderedDict\n",
    "from typing import Dict\n",
    "from transformers import AutoModel, AutoTokenizer\n",
    "from sklearn.decomposition import PCA\n",
    "import sys\n",
    "! cp -r /content/drive/MyDrive/sapBERT-DUT-cambridge/src /content/src\n",
    "from src.model_wrapper import Model_Wrapper\n",
    "import pandas as pd\n",
    "import sklearn\n",
    "from sklearn.model_selection import ParameterGrid\n",
    "import re"
   ]
  },
  {
   "cell_type": "code",
   "execution_count": null,
   "metadata": {
    "id": "MC2S8LhuZuU8"
   },
   "outputs": [],
   "source": [
    "from src.model_wrapper import (\n",
    "    Model_Wrapper\n",
    ")"
   ]
  },
  {
   "cell_type": "code",
   "execution_count": null,
   "metadata": {
    "id": "VApBk75xf63J"
   },
   "outputs": [],
   "source": [
    "def get_query_embedding(queries, tokenizer, model):\n",
    "    bs = 128\n",
    "    all_reps = []\n",
    "    for i in tqdm(np.arange(0, len(queries), bs)):\n",
    "        toks = tokenizer.batch_encode_plus(queries[i:i+bs],\n",
    "                                        padding=\"max_length\",\n",
    "                                        max_length=25,\n",
    "                                        truncation=True,\n",
    "                                        return_tensors=\"pt\")\n",
    "        toks_cuda = {}\n",
    "        for k,v in toks.items():\n",
    "            toks_cuda[k] = v.cuda()\n",
    "        output = model(**toks_cuda)\n",
    "\n",
    "        cls_rep = output[0][:,0,:]\n",
    "\n",
    "        all_reps.append(cls_rep.cpu().detach().numpy())\n",
    "    all_reps_emb = np.concatenate(all_reps, axis=0)\n",
    "\n",
    "    return all_reps_emb\n",
    "\n",
    "def query_index(queries, tokenizer, model, index, idx2cui, cui2string, pca):\n",
    "    query_embs = get_query_embedding(queries, tokenizer, model)\n",
    "    query_embs = np.array(pca.transform(query_embs), dtype=np.float32)\n",
    "\n",
    "    preds = []\n",
    "\n",
    "    for query_emb in tqdm(query_embs):\n",
    "        dist, neighbors = index.search(np.reshape(query_emb, (1,256)), 5)\n",
    "        dist, neighbors = dist[0], neighbors[0]\n",
    "\n",
    "        pred = idx2cui[neighbors[0]]\n",
    "        preds.append(pred)\n",
    "\n",
    "    return preds"
   ]
  },
  {
   "cell_type": "code",
   "execution_count": null,
   "metadata": {
    "id": "FgGQpbDLZPr_"
   },
   "outputs": [],
   "source": [
    "def getResources(model_directory_path):\n",
    "        model_wrapper = Model_Wrapper().load_model(\n",
    "            path=f'{model_directory_path}',\n",
    "            max_length=25,\n",
    "            use_cuda=True,\n",
    "        )\n",
    "        tokenizer = model_wrapper.get_dense_tokenizer()\n",
    "        model = model_wrapper.get_dense_encoder()\n",
    "        index = faiss.read_index(f'{model_directory_path}/index')\n",
    "        pca = pkl.load(open(f'{model_directory_path}/pca', \"rb\"))\n",
    "    return tokenizer, model, index, pca"
   ]
  },
  {
   "cell_type": "code",
   "execution_count": null,
   "metadata": {
    "id": "cOq7UaIorC1I"
   },
   "outputs": [],
   "source": [
    "def checkRelations(pred, trues, relations):\n",
    "    if isinstance(trues, list):\n",
    "        for true in trues:\n",
    "            key = f\"{true}|{pred}\"\n",
    "            if key in relations:\n",
    "                return relations[key]\n",
    "    else:\n",
    "        key = f\"{trues}|{pred}\"\n",
    "        key2 = f\"{pred}|{trues}\"\n",
    "        if key in relations:\n",
    "            return relations[key]\n",
    "        elif key2 in relations:\n",
    "            return relations[key2]\n",
    "\n",
    "    return False"
   ]
  },
  {
   "cell_type": "code",
   "execution_count": null,
   "metadata": {
    "id": "7vzs1qOE1p4U"
   },
   "outputs": [],
   "source": [
    "def checkRelation(preds, trues, relations):\n",
    "    trues_ = []\n",
    "    relas = []\n",
    "    dist_1_relas = []\n",
    "\n",
    "    for i, pred in enumerate(preds):\n",
    "\n",
    "        rela = checkRelations(pred, trues[i], relations)\n",
    "        current_trues = trues[i]\n",
    "\n",
    "        if pred in current_trues:\n",
    "            trues_.append(pred)\n",
    "            dist_1_relas.append(True)\n",
    "            relas.append('')\n",
    "        elif rela:\n",
    "            trues_.append(current_trues[0])\n",
    "            dist_1_relas.append(True)\n",
    "            relas.append(rela)\n",
    "        else:\n",
    "            trues_.append(current_trues[0])\n",
    "            dist_1_relas.append(False)\n",
    "            relas.append('')\n",
    "    return trues_, dist_1_relas, relas"
   ]
  },
  {
   "cell_type": "code",
   "execution_count": null,
   "metadata": {
    "id": "BZmwuf_bsx6u"
   },
   "outputs": [],
   "source": [
    "def predict(model_directory_path, sentences, mentions, idx2cui, cui2string):\n",
    "    tokenizer, model, index, pca = getResources(model_directory_path)\n",
    "    preds = query_index(mentions, tokenizer, model, index, idx2cui, cui2string, pca)\n",
    "    return preds"
   ]
  },
  {
   "cell_type": "code",
   "execution_count": null,
   "metadata": {
    "id": "_hzRzmJavqWF"
   },
   "outputs": [],
   "source": [
    "def evaluate(preds, trues, relas):\n",
    "    acc = sklearn.metrics.accuracy_score(checked_trues, preds)\n",
    "    acc_1dist = sum(relas)/len(relas)\n",
    "\n",
    "    print(f\"Accuracy: {acc}\")\n",
    "    print('1-dist accuracy: ', {acc_1dist})\n",
    "\n",
    "    return acc, acc_1dist"
   ]
  },
  {
   "cell_type": "code",
   "execution_count": null,
   "metadata": {
    "id": "cBufe0OIv1Eh"
   },
   "outputs": [],
   "source": [
    "def saveResults(sentences, mentions, cui2string, preds, trues, relas, save=False):\n",
    "    results = []\n",
    "\n",
    "    for i, true in enumerate(trues):\n",
    "        try:\n",
    "            results.append([sentences[i], mentions[i], cui2string[preds[i]], cui2string[true], preds[i], true, relas[i]])\n",
    "        except:\n",
    "            print(mentions[i], true, preds[i])\n",
    "            # continue\n",
    "    df_results = pd.DataFrame(results, columns=['sentence', 'mention', 'prediction', 'label', 'cui_prediction', 'cui_label', 'relation'])\n",
    "\n",
    "    # display(df_results)\n",
    "\n",
    "    if save:\n",
    "        df_results.to_csv(f'{model_directory_path}/predictions_mantra.csv')\n",
    "\n",
    "        with open(f'{model_directory_path}/preds', 'wb') as f:\n",
    "            pkl.dump(preds, f)"
   ]
  },
  {
   "cell_type": "code",
   "execution_count": null,
   "metadata": {
    "id": "_oepvXf9tcpc"
   },
   "outputs": [],
   "source": [
    "data = pd.read_pickle(f\"mantra.pkl\")\n",
    "sentences = data['sentence'].to_list()\n",
    "mentions = data['mention'].to_list()\n",
    "idx2cui = pkl.load(open('id2cui.pkl', 'rb'))\n",
    "cui2string = pkl.load(open('cui_to_string', 'rb'))\n",
    "relations = pkl.load(open('relations', 'rb'))\n",
    "model_directory_path = f'3s10ft'\n",
    "\n",
    "preds = predict(model_directory_path, sentences, mentions, idx2cui, cui2string)\n",
    "checked_trues, dist_1_relas, relas = checkRelation(preds, trues, relations)\n",
    "acc, acc_1dist = evaluate(preds, checked_trues, dist_1_relas)\n",
    "saveResults(sentences, mentions, cui2string, preds, checked_trues, relas, True)\n",
    "\n"
   ]
  }
 ],
 "metadata": {
  "accelerator": "GPU",
  "colab": {
   "provenance": []
  },
  "gpuClass": "standard",
  "kernelspec": {
   "display_name": "Python 3 (ipykernel)",
   "language": "python",
   "name": "python3"
  },
  "language_info": {
   "codemirror_mode": {
    "name": "ipython",
    "version": 3
   },
   "file_extension": ".py",
   "mimetype": "text/x-python",
   "name": "python",
   "nbconvert_exporter": "python",
   "pygments_lexer": "ipython3",
   "version": "3.8.10"
  }
 },
 "nbformat": 4,
 "nbformat_minor": 1
}
