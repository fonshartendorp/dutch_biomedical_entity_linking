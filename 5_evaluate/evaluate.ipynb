{
  "nbformat": 4,
  "nbformat_minor": 0,
  "metadata": {
    "colab": {
      "provenance": []
    },
    "kernelspec": {
      "name": "python3",
      "display_name": "Python 3"
    },
    "language_info": {
      "name": "python"
    },
    "gpuClass": "standard",
    "accelerator": "GPU"
  },
  "cells": [
    {
      "cell_type": "code",
      "execution_count": null,
      "metadata": {
        "id": "-_owhisofaCk"
      },
      "outputs": [],
      "source": [
        "!pip install faiss-gpu\n",
        "!pip install pytorch_metric_learning\n",
        "!pip install transformers"
      ]
    },
    {
      "cell_type": "code",
      "source": [
        "import faiss\n",
        "from tqdm import tqdm\n",
        "import numpy as np\n",
        "import pickle as pkl\n",
        "from collections import OrderedDict\n",
        "from typing import Dict\n",
        "from transformers import AutoModel, AutoTokenizer\n",
        "from sklearn.decomposition import PCA\n",
        "import sys\n",
        "! cp -r /content/drive/MyDrive/sapBERT-DUT-cambridge/src /content/src\n",
        "from src.model_wrapper import Model_Wrapper\n",
        "import pandas as pd\n",
        "import sklearn\n",
        "from sklearn.model_selection import ParameterGrid\n",
        "import re"
      ],
      "metadata": {
        "id": "7fNLkG95flO7"
      },
      "execution_count": null,
      "outputs": []
    },
    {
      "cell_type": "code",
      "source": [
        "finetunesets = {\n",
        "    'nl-wiki_bel-test': 'nl_wiki_bel_traintestsplit',\n",
        "    'mantra_both-files_cleaned_multiple_cuis' : 'nl_wiki_bel_all'\n",
        "}"
      ],
      "metadata": {
        "id": "OLghNN8a1gsa"
      },
      "execution_count": null,
      "outputs": []
    },
    {
      "cell_type": "code",
      "source": [
        "sys.path.append('/content/drive/MyDrive/sapBERT-DUT-cambridge')\n",
        "sapBERT_epochs = 3\n",
        "finetune_epochs = 3\n",
        "test_dataset = 'mantra_both-files_cleaned_multiple_cuis'\n",
        "model_directory_path = f'/content/drive/MyDrive/sapBERT-DUT-cambridge/results/medRoBERTa/ft_{finetune_epochs}_epoch/{finetunesets[test_dataset]}'\n",
        "\n",
        "data = pd.read_pickle(f\"/content/drive/MyDrive/sapBERT-DUT-cambridge/evaluation/{test_dataset}.pkl\")\n",
        "sentences = data['sentence'].to_list()\n",
        "mentions = data['mention'].to_list()\n",
        "\n",
        "trues = data['cui'].to_list()\n"
      ],
      "metadata": {
        "id": "dbFLYBtqHj_Q"
      },
      "execution_count": null,
      "outputs": []
    },
    {
      "cell_type": "code",
      "source": [
        "idx2cui = pkl.load(open('/content/drive/MyDrive/sapBERT-DUT-cambridge/index/id2cui.pkl', 'rb'))\n",
        "cui2string = pkl.load(open('/content/drive/MyDrive/sapBERT-DUT-cambridge/index/cui_to_string', 'rb'))\n",
        "relations = pkl.load(open('/content/drive/MyDrive/sapBERT_resources/relations', 'rb'))"
      ],
      "metadata": {
        "id": "z0BKCnNOqQR6"
      },
      "execution_count": null,
      "outputs": []
    },
    {
      "cell_type": "code",
      "source": [
        "from src.model_wrapper import (\n",
        "    Model_Wrapper\n",
        ")"
      ],
      "metadata": {
        "id": "MC2S8LhuZuU8"
      },
      "execution_count": null,
      "outputs": []
    },
    {
      "cell_type": "code",
      "source": [
        "def get_query_embedding(queries, tokenizer, model):\n",
        "    bs = 128\n",
        "    all_reps = []\n",
        "    for i in tqdm(np.arange(0, len(queries), bs)):\n",
        "        toks = tokenizer.batch_encode_plus(queries[i:i+bs],\n",
        "                                        padding=\"max_length\",\n",
        "                                        max_length=25,\n",
        "                                        truncation=True,\n",
        "                                        return_tensors=\"pt\")\n",
        "        toks_cuda = {}\n",
        "        for k,v in toks.items():\n",
        "            toks_cuda[k] = v.cuda()\n",
        "        output = model(**toks_cuda)\n",
        "\n",
        "        cls_rep = output[0][:,0,:]\n",
        "\n",
        "        all_reps.append(cls_rep.cpu().detach().numpy())\n",
        "    all_reps_emb = np.concatenate(all_reps, axis=0)\n",
        "\n",
        "    return all_reps_emb\n",
        "\n",
        "def query_index(queries, tokenizer, model, index, idx2cui, cui2string, pca):\n",
        "    query_embs = get_query_embedding(queries, tokenizer, model)\n",
        "    query_embs = np.array(pca.transform(query_embs), dtype=np.float32)\n",
        "\n",
        "    preds = []\n",
        "\n",
        "    for query_emb in tqdm(query_embs):\n",
        "        dist, neighbors = index.search(np.reshape(query_emb, (1,256)), 5)\n",
        "        dist, neighbors = dist[0], neighbors[0]\n",
        "\n",
        "        pred = idx2cui[neighbors[0]]\n",
        "        preds.append(pred)\n",
        "\n",
        "    return preds"
      ],
      "metadata": {
        "id": "VApBk75xf63J"
      },
      "execution_count": null,
      "outputs": []
    },
    {
      "cell_type": "code",
      "source": [
        "def getResources(model_directory_path):\n",
        "    # if basemodel\n",
        "    if '/medRoBERTa/ft_0_epoch/' in model_directory_path:\n",
        "        tokenizer = AutoTokenizer.from_pretrained('CLTL/MedRoBERTa.nl')\n",
        "        model = AutoModel.from_pretrained('CLTL/MedRoBERTa.nl').to('cuda')\n",
        "\n",
        "        index = faiss.read_index('/content/drive/MyDrive/sapBERT-DUT-cambridge/results/medRoBERTa/ft_0_epoch/index')\n",
        "        pca = pkl.load(open('/content/drive/MyDrive/sapBERT-DUT-cambridge/results/medRoBERTa/ft_0_epoch/pca', \"rb\"))\n",
        "\n",
        "        # index = faiss.read_index('/content/drive/MyDrive/sapBERT-DUT-cambridge/index/index_basemodel_pca')\n",
        "        # pca = pkl.load(open('/content/drive/MyDrive/sapBERT-DUT-cambridge/basemodel_pca', \"rb\"))\n",
        "    else:\n",
        "        model_wrapper = Model_Wrapper().load_model(\n",
        "                path=f'{model_directory_path}',\n",
        "                # path='/content/drive/MyDrive/sapBERT-DUT-cambridge/output_finetune_3epoch',\n",
        "                max_length=25,\n",
        "                use_cuda=True,\n",
        "            )\n",
        "        tokenizer = model_wrapper.get_dense_tokenizer()\n",
        "        model = model_wrapper.get_dense_encoder()\n",
        "        index = faiss.read_index(f'{model_directory_path}/index')\n",
        "        pca = pkl.load(open(f'{model_directory_path}/pca', \"rb\"))\n",
        "        # index = faiss.read_index('/content/drive/MyDrive/sapBERT-DUT-cambridge/finetuned_3epoch/index_pca')\n",
        "        # pca = pkl.load(open('/content/drive/MyDrive/sapBERT-DUT-cambridge/finetuned_3epoch/pca', \"rb\"))\n",
        "    return tokenizer, model, index, pca"
      ],
      "metadata": {
        "id": "FgGQpbDLZPr_"
      },
      "execution_count": null,
      "outputs": []
    },
    {
      "cell_type": "code",
      "source": [
        "def checkRelations(pred, trues, relations):\n",
        "    if isinstance(trues, list):\n",
        "        for true in trues:\n",
        "            key = f\"{true}|{pred}\"\n",
        "            if key in relations:\n",
        "                return relations[key]\n",
        "    else:\n",
        "        key = f\"{trues}|{pred}\"\n",
        "        key2 = f\"{pred}|{trues}\"\n",
        "        if key in relations:\n",
        "            return relations[key]\n",
        "        elif key2 in relations:\n",
        "            return relations[key2]\n",
        "\n",
        "    return False"
      ],
      "metadata": {
        "id": "cOq7UaIorC1I"
      },
      "execution_count": null,
      "outputs": []
    },
    {
      "cell_type": "code",
      "source": [
        "def checkRelation(preds, trues, relations):\n",
        "    trues_ = []\n",
        "    relas = []\n",
        "    dist_1_relas = []\n",
        "\n",
        "    for i, pred in enumerate(preds):\n",
        "\n",
        "        rela = checkRelations(pred, trues[i], relations)\n",
        "        # current_trues = re.findall('C\\d{7}', trues[i])\n",
        "        current_trues = trues[i]\n",
        "\n",
        "        if pred in current_trues:\n",
        "            trues_.append(pred)\n",
        "            dist_1_relas.append(True)\n",
        "            relas.append('')\n",
        "        elif rela:\n",
        "            trues_.append(current_trues[0])\n",
        "            dist_1_relas.append(True)\n",
        "            relas.append(rela)\n",
        "            # relas.append(True)\n",
        "        else:\n",
        "            trues_.append(current_trues[0])\n",
        "            dist_1_relas.append(False)\n",
        "            relas.append('')\n",
        "    return trues_, dist_1_relas, relas"
      ],
      "metadata": {
        "id": "7vzs1qOE1p4U"
      },
      "execution_count": null,
      "outputs": []
    },
    {
      "cell_type": "code",
      "source": [
        "def predict(model_directory_path, sentences, mentions, idx2cui, cui2string):\n",
        "    tokenizer, model, index, pca = getResources(model_directory_path)\n",
        "    preds = query_index(mentions, tokenizer, model, index, idx2cui, cui2string, pca)\n",
        "    return preds"
      ],
      "metadata": {
        "id": "BZmwuf_bsx6u"
      },
      "execution_count": null,
      "outputs": []
    },
    {
      "cell_type": "code",
      "source": [
        "def evaluate(preds, trues, relas):\n",
        "    acc = sklearn.metrics.accuracy_score(checked_trues, preds)\n",
        "    acc_1dist = sum(relas)/len(relas)\n",
        "\n",
        "    print(f\"Accuracy: {acc}\")\n",
        "    print('1-dist accuracy: ', {acc_1dist})\n",
        "\n",
        "    return acc, acc_1dist"
      ],
      "metadata": {
        "id": "_hzRzmJavqWF"
      },
      "execution_count": null,
      "outputs": []
    },
    {
      "cell_type": "code",
      "source": [
        "def saveResults(sentences, mentions, cui2string, preds, trues, relas, save=False):\n",
        "    results = []\n",
        "\n",
        "    for i, true in enumerate(trues):\n",
        "        try:\n",
        "            results.append([sentences[i], mentions[i], cui2string[preds[i]], cui2string[true], preds[i], true, relas[i]])\n",
        "        except:\n",
        "            print(mentions[i], true, preds[i])\n",
        "            # continue\n",
        "    df_results = pd.DataFrame(results, columns=['sentence', 'mention', 'prediction', 'label', 'cui_prediction', 'cui_label', 'relation'])\n",
        "\n",
        "    # display(df_results)\n",
        "\n",
        "    if save:\n",
        "        df_results.to_csv(f'{model_directory_path}/predictions_multi-cuis-mantra.csv')\n",
        "\n",
        "        with open(f'{model_directory_path}/preds', 'wb') as f:\n",
        "            pkl.dump(preds, f)"
      ],
      "metadata": {
        "id": "cBufe0OIv1Eh"
      },
      "execution_count": null,
      "outputs": []
    },
    {
      "cell_type": "code",
      "source": [
        "results = []\n",
        "\n",
        "param_grid = [\n",
        "    {\n",
        "    '2nd_sapBERT_epochs' : 0,\n",
        "    '3rd_finetune_epochs' : 0,\n",
        "    'testsets' : 'mantra_both-files_cleaned_multiple_cuis'\n",
        "    },\n",
        "     {\n",
        "    '2nd_sapBERT_epochs' : 3,\n",
        "    '3rd_finetune_epochs' : 3,\n",
        "    'testsets' : 'mantra_both-files_cleaned_multiple_cuis'\n",
        "     }\n",
        "]\n",
        "\n",
        "\n",
        "for c in param_grid:\n",
        "    print(c)\n",
        "    test_dataset = c['testsets']\n",
        "    finetune_epochs = c['3rd_finetune_epochs']\n",
        "    sapBERT_epochs = c['2nd_sapBERT_epochs']\n",
        "\n",
        "    # if basemodel\n",
        "    if c['2nd_sapBERT_epochs'] == 0 and c['3rd_finetune_epochs'] == 0:\n",
        "        model_directory_path = f'/content/drive/MyDrive/sapBERT-DUT-cambridge/results/medRoBERTa/ft_0_epoch/{finetunesets[test_dataset]}'\n",
        "    # if no 2nd phase pretraining\n",
        "    elif c['2nd_sapBERT_epochs'] == 0:\n",
        "        model_directory_path = f'/content/drive/MyDrive/sapBERT-DUT-cambridge/results/medRoBERTa/ft_{finetune_epochs}_epoch/{finetunesets[test_dataset]}'\n",
        "    # if no finetuning\n",
        "    elif c['3rd_finetune_epochs'] == 0:\n",
        "        model_directory_path = f'/content/drive/MyDrive/sapBERT-DUT-cambridge/results/medRoBERTa_sapBERT/{sapBERT_epochs}_epoch/ft_0_epoch'\n",
        "    else:\n",
        "        model_directory_path = f'/content/drive/MyDrive/sapBERT-DUT-cambridge/results/medRoBERTa_sapBERT/{sapBERT_epochs}_epoch/ft_{finetune_epochs}_epoch/{finetunesets[test_dataset]}'\n",
        "\n",
        "    data = pd.read_pickle(f\"/content/drive/MyDrive/sapBERT-DUT-cambridge/evaluation/{test_dataset}.pkl\")\n",
        "    sentences = data['sentence'].to_list()\n",
        "    mentions = data['mention'].to_list()\n",
        "    if test_dataset == 'nl-wiki_bel-test':\n",
        "        trues = data['checked_cuis'].to_list()\n",
        "    else:\n",
        "        trues = data['cui'].to_list()\n",
        "\n",
        "    preds = predict(model_directory_path, sentences, mentions, idx2cui, cui2string)\n",
        "    checked_trues, dist_1_relas, relas = checkRelation(preds, trues, relations)\n",
        "    acc, acc_1dist = evaluate(preds, checked_trues, dist_1_relas)\n",
        "    saveResults(sentences, mentions, cui2string, preds, checked_trues, relas, True)\n",
        "\n",
        "    results.append([c['2nd_sapBERT_epochs'], c['3rd_finetune_epochs'], c['testsets'], acc, acc_1dist])\n"
      ],
      "metadata": {
        "id": "_oepvXf9tcpc"
      },
      "execution_count": null,
      "outputs": []
    },
    {
      "cell_type": "code",
      "source": [
        "df_results = pd.DataFrame(results, columns=['sapBERT_epochs', 'finetune_epochs', 'test_set', 'acc', '1-dist_acc'])\n",
        "df_results"
      ],
      "metadata": {
        "id": "6LHi2CS8hWZr"
      },
      "execution_count": null,
      "outputs": []
    },
    {
      "cell_type": "code",
      "source": [
        "df_results.to_csv('/content/drive/MyDrive/sapBERT-DUT-cambridge/evaluation/results_mantra-both-files_cleaned_multiple-cuis.csv')"
      ],
      "metadata": {
        "id": "olp0yvQ0h6Xc"
      },
      "execution_count": null,
      "outputs": []
    },
    {
      "cell_type": "code",
      "source": [
        "df_results.to_csv('results_mantra_both-files.csv')"
      ],
      "metadata": {
        "id": "kVzreY_kiaNV"
      },
      "execution_count": null,
      "outputs": []
    },
    {
      "cell_type": "code",
      "source": [
        "data"
      ],
      "metadata": {
        "id": "49YYGamexr95"
      },
      "execution_count": null,
      "outputs": []
    }
  ]
}