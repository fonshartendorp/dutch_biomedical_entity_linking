{
 "cells": [
  {
   "cell_type": "code",
   "execution_count": 2,
   "metadata": {},
   "outputs": [],
   "source": [
    "from tqdm.auto import tqdm\n",
    "import itertools\n",
    "import random\n",
    "import pickle as pkl\n",
    "import pandas as pd"
   ]
  },
  {
   "cell_type": "markdown",
   "metadata": {},
   "source": [
    "## Load Dutch UMLS"
   ]
  },
  {
   "cell_type": "code",
   "execution_count": 27,
   "metadata": {},
   "outputs": [],
   "source": [
    "df = pd.read_csv('WALVIS.csv')"
   ]
  },
  {
   "cell_type": "code",
   "execution_count": 18,
   "metadata": {},
   "outputs": [],
   "source": [
    "df = df.drop_duplicates(subset='mention', keep='first')"
   ]
  },
  {
   "cell_type": "code",
   "execution_count": 19,
   "metadata": {},
   "outputs": [
    {
     "data": {
      "text/html": [
       "<div>\n",
       "<style scoped>\n",
       "    .dataframe tbody tr th:only-of-type {\n",
       "        vertical-align: middle;\n",
       "    }\n",
       "\n",
       "    .dataframe tbody tr th {\n",
       "        vertical-align: top;\n",
       "    }\n",
       "\n",
       "    .dataframe thead th {\n",
       "        text-align: right;\n",
       "    }\n",
       "</style>\n",
       "<table border=\"1\" class=\"dataframe\">\n",
       "  <thead>\n",
       "    <tr style=\"text-align: right;\">\n",
       "      <th></th>\n",
       "      <th>Unnamed: 0</th>\n",
       "      <th>id</th>\n",
       "      <th>mention</th>\n",
       "      <th>cui</th>\n",
       "      <th>start_index</th>\n",
       "      <th>end_index</th>\n",
       "      <th>sentence</th>\n",
       "      <th>uniq_cui</th>\n",
       "    </tr>\n",
       "  </thead>\n",
       "  <tbody>\n",
       "    <tr>\n",
       "      <th>0</th>\n",
       "      <td>0</td>\n",
       "      <td>0</td>\n",
       "      <td>aminozuren</td>\n",
       "      <td>['C0002520']</td>\n",
       "      <td>57</td>\n",
       "      <td>67</td>\n",
       "      <td>Uit simpele organische stoffen ontstonden mate...</td>\n",
       "      <td>C0002520</td>\n",
       "    </tr>\n",
       "    <tr>\n",
       "      <th>1</th>\n",
       "      <td>1</td>\n",
       "      <td>1</td>\n",
       "      <td>kopersulfaat</td>\n",
       "      <td>['C0056301']</td>\n",
       "      <td>52</td>\n",
       "      <td>64</td>\n",
       "      <td>Onder strikte voorwaarden is een bladbespuitin...</td>\n",
       "      <td>C0056301</td>\n",
       "    </tr>\n",
       "    <tr>\n",
       "      <th>2</th>\n",
       "      <td>2</td>\n",
       "      <td>2</td>\n",
       "      <td>kopen</td>\n",
       "      <td>['C0520949']</td>\n",
       "      <td>171</td>\n",
       "      <td>176</td>\n",
       "      <td>Individuele armoede kan het gevolg zijn van ee...</td>\n",
       "      <td>C0520949</td>\n",
       "    </tr>\n",
       "    <tr>\n",
       "      <th>3</th>\n",
       "      <td>3</td>\n",
       "      <td>3</td>\n",
       "      <td>ziekte van Van Leeuwenhoek</td>\n",
       "      <td>['C0027066', 'C1854302']</td>\n",
       "      <td>168</td>\n",
       "      <td>194</td>\n",
       "      <td>Volgens de verhalen dicteerde hij op zijn ster...</td>\n",
       "      <td>C0027066</td>\n",
       "    </tr>\n",
       "    <tr>\n",
       "      <th>4</th>\n",
       "      <td>4</td>\n",
       "      <td>4</td>\n",
       "      <td>retina</td>\n",
       "      <td>['C0035298']</td>\n",
       "      <td>16</td>\n",
       "      <td>22</td>\n",
       "      <td>Het netvlies of retina is beweeglijk zodat het...</td>\n",
       "      <td>C0035298</td>\n",
       "    </tr>\n",
       "    <tr>\n",
       "      <th>...</th>\n",
       "      <td>...</td>\n",
       "      <td>...</td>\n",
       "      <td>...</td>\n",
       "      <td>...</td>\n",
       "      <td>...</td>\n",
       "      <td>...</td>\n",
       "      <td>...</td>\n",
       "      <td>...</td>\n",
       "    </tr>\n",
       "    <tr>\n",
       "      <th>7870</th>\n",
       "      <td>7870</td>\n",
       "      <td>8346</td>\n",
       "      <td>neutrofielen</td>\n",
       "      <td>['C0027950']</td>\n",
       "      <td>16</td>\n",
       "      <td>28</td>\n",
       "      <td>Het zwermen van neutrofielen is een type gecoö...</td>\n",
       "      <td>C0027950</td>\n",
       "    </tr>\n",
       "    <tr>\n",
       "      <th>7871</th>\n",
       "      <td>7871</td>\n",
       "      <td>8347</td>\n",
       "      <td>hals</td>\n",
       "      <td>['C3665420']</td>\n",
       "      <td>3</td>\n",
       "      <td>7</td>\n",
       "      <td>De hals- en ruggenwervels dragen hoge, vertica...</td>\n",
       "      <td>C3665420</td>\n",
       "    </tr>\n",
       "    <tr>\n",
       "      <th>7873</th>\n",
       "      <td>7873</td>\n",
       "      <td>8349</td>\n",
       "      <td>spaanplaatgas</td>\n",
       "      <td>['C0016564']</td>\n",
       "      <td>37</td>\n",
       "      <td>50</td>\n",
       "      <td>Vanwege jarenlange blootstelling aan spaanplaa...</td>\n",
       "      <td>C0016564</td>\n",
       "    </tr>\n",
       "    <tr>\n",
       "      <th>7874</th>\n",
       "      <td>7874</td>\n",
       "      <td>8350</td>\n",
       "      <td>Hartcatheterisatie</td>\n",
       "      <td>['C0085532']</td>\n",
       "      <td>77</td>\n",
       "      <td>95</td>\n",
       "      <td>Chamuleaus enthousiasme voor de cardiologie we...</td>\n",
       "      <td>C0085532</td>\n",
       "    </tr>\n",
       "    <tr>\n",
       "      <th>7876</th>\n",
       "      <td>7876</td>\n",
       "      <td>8352</td>\n",
       "      <td>anticonvulsieve</td>\n",
       "      <td>['C0003286']</td>\n",
       "      <td>29</td>\n",
       "      <td>44</td>\n",
       "      <td>De stof bezit anxiolytische, anticonvulsieve, ...</td>\n",
       "      <td>C0003286</td>\n",
       "    </tr>\n",
       "  </tbody>\n",
       "</table>\n",
       "<p>2606 rows × 8 columns</p>\n",
       "</div>"
      ],
      "text/plain": [
       "      Unnamed: 0    id                     mention                       cui  \\\n",
       "0              0     0                  aminozuren              ['C0002520']   \n",
       "1              1     1                kopersulfaat              ['C0056301']   \n",
       "2              2     2                       kopen              ['C0520949']   \n",
       "3              3     3  ziekte van Van Leeuwenhoek  ['C0027066', 'C1854302']   \n",
       "4              4     4                      retina              ['C0035298']   \n",
       "...          ...   ...                         ...                       ...   \n",
       "7870        7870  8346                neutrofielen              ['C0027950']   \n",
       "7871        7871  8347                        hals              ['C3665420']   \n",
       "7873        7873  8349               spaanplaatgas              ['C0016564']   \n",
       "7874        7874  8350          Hartcatheterisatie              ['C0085532']   \n",
       "7876        7876  8352             anticonvulsieve              ['C0003286']   \n",
       "\n",
       "      start_index  end_index  \\\n",
       "0              57         67   \n",
       "1              52         64   \n",
       "2             171        176   \n",
       "3             168        194   \n",
       "4              16         22   \n",
       "...           ...        ...   \n",
       "7870           16         28   \n",
       "7871            3          7   \n",
       "7873           37         50   \n",
       "7874           77         95   \n",
       "7876           29         44   \n",
       "\n",
       "                                               sentence  uniq_cui  \n",
       "0     Uit simpele organische stoffen ontstonden mate...  C0002520  \n",
       "1     Onder strikte voorwaarden is een bladbespuitin...  C0056301  \n",
       "2     Individuele armoede kan het gevolg zijn van ee...  C0520949  \n",
       "3     Volgens de verhalen dicteerde hij op zijn ster...  C0027066  \n",
       "4     Het netvlies of retina is beweeglijk zodat het...  C0035298  \n",
       "...                                                 ...       ...  \n",
       "7870  Het zwermen van neutrofielen is een type gecoö...  C0027950  \n",
       "7871  De hals- en ruggenwervels dragen hoge, vertica...  C3665420  \n",
       "7873  Vanwege jarenlange blootstelling aan spaanplaa...  C0016564  \n",
       "7874  Chamuleaus enthousiasme voor de cardiologie we...  C0085532  \n",
       "7876  De stof bezit anxiolytische, anticonvulsieve, ...  C0003286  \n",
       "\n",
       "[2606 rows x 8 columns]"
      ]
     },
     "execution_count": 19,
     "metadata": {},
     "output_type": "execute_result"
    }
   ],
   "source": [
    "df"
   ]
  },
  {
   "cell_type": "code",
   "execution_count": 20,
   "metadata": {},
   "outputs": [],
   "source": [
    "cleaned = []\n",
    "\n",
    "for index, concept in df.iterrows():\n",
    "    cleaned.append(f\"{concept['uniq_cui']}||{concept['mention']}\")"
   ]
  },
  {
   "cell_type": "code",
   "execution_count": 21,
   "metadata": {},
   "outputs": [
    {
     "data": {
      "text/plain": [
       "['C0002520||aminozuren',\n",
       " 'C0056301||kopersulfaat',\n",
       " 'C0520949||kopen',\n",
       " 'C0027066||ziekte van Van Leeuwenhoek',\n",
       " 'C0035298||retina',\n",
       " 'C0016330||fluor',\n",
       " 'C0038702||sulfonamide',\n",
       " 'C1690571||allergische',\n",
       " 'C5203670||COVID-19',\n",
       " 'C0679560||analyse van DNA',\n",
       " 'C0038984||zweet',\n",
       " \"C3203533||trauma's\",\n",
       " 'C0007012||kooldioxide',\n",
       " 'C0036471||balzak',\n",
       " 'C0242350||impotent',\n",
       " 'C0597101||basen',\n",
       " 'C0016658||botzetting',\n",
       " 'C0029850||klaplong',\n",
       " 'C0013604||waterzucht',\n",
       " 'C0026820||samen te trekken',\n",
       " 'C4045985||wierp duivelen uit',\n",
       " 'C0155020||blind',\n",
       " 'C0021345||ziekte van Pfeiffer',\n",
       " 'C0023343||leprozen',\n",
       " 'C0007012||CO',\n",
       " 'C0014499||epidemische ziekten',\n",
       " 'C0006826||cancereuze aandoening',\n",
       " 'C0567415||atomen',\n",
       " 'C0022568||hoornvliesontsteking',\n",
       " 'C0018524||hallucinogenen']"
      ]
     },
     "execution_count": 21,
     "metadata": {},
     "output_type": "execute_result"
    }
   ],
   "source": [
    "cleaned[:30]"
   ]
  },
  {
   "cell_type": "markdown",
   "metadata": {},
   "source": [
    "## positive pairs generation"
   ]
  },
  {
   "cell_type": "code",
   "execution_count": 22,
   "metadata": {},
   "outputs": [
    {
     "data": {
      "application/vnd.jupyter.widget-view+json": {
       "model_id": "a68872ee536a4b73b58242d05a1b4915",
       "version_major": 2,
       "version_minor": 0
      },
      "text/plain": [
       "  0%|          | 0/2606 [00:00<?, ?it/s]"
      ]
     },
     "metadata": {},
     "output_type": "display_data"
    }
   ],
   "source": [
    "umls_dict = {} # constrauct cui to list of name dict, again\n",
    "for line in tqdm(cleaned):\n",
    "    cui, name = line.split(\"||\")\n",
    "    if cui in umls_dict:\n",
    "        umls_dict[cui].append(name)\n",
    "    else:\n",
    "        umls_dict[cui] = [name]"
   ]
  },
  {
   "cell_type": "markdown",
   "metadata": {},
   "source": [
    "### generate!"
   ]
  },
  {
   "cell_type": "code",
   "execution_count": 23,
   "metadata": {},
   "outputs": [],
   "source": [
    "def gen_pairs(input_list):\n",
    "    return list(itertools.combinations(input_list, r=2))"
   ]
  },
  {
   "cell_type": "code",
   "execution_count": 24,
   "metadata": {},
   "outputs": [
    {
     "data": {
      "application/vnd.jupyter.widget-view+json": {
       "model_id": "26d56e5415a24edf869e13fe101e9285",
       "version_major": 2,
       "version_minor": 0
      },
      "text/plain": [
       "  0%|          | 0/999 [00:00<?, ?it/s]"
      ]
     },
     "metadata": {},
     "output_type": "display_data"
    }
   ],
   "source": [
    "pos_pairs = []\n",
    "for k,v in tqdm(umls_dict.items()):\n",
    "    pairs = gen_pairs(v)\n",
    "    if len(pairs)>50: # if >50 pairs, then trim to 50 pairs\n",
    "        pairs = random.sample(pairs, 50)\n",
    "    for p in pairs:\n",
    "        line = str(k) + \"||\" + p[0] + \"||\" + p[1]\n",
    "        pos_pairs.append(line)"
   ]
  },
  {
   "cell_type": "code",
   "execution_count": 25,
   "metadata": {},
   "outputs": [
    {
     "data": {
      "text/plain": [
       "['C0002520||aminozuren||γ-aminozuur',\n",
       " 'C0002520||aminozuren||α-aminozuren',\n",
       " 'C0002520||aminozuren||α-aminozuur',\n",
       " 'C0002520||γ-aminozuur||α-aminozuren',\n",
       " 'C0002520||γ-aminozuur||α-aminozuur',\n",
       " 'C0002520||α-aminozuren||α-aminozuur',\n",
       " 'C0520949||kopen||koopverslaving',\n",
       " 'C0520949||kopen||winkelverslaving',\n",
       " 'C0520949||koopverslaving||winkelverslaving',\n",
       " 'C0027066||ziekte van Van Leeuwenhoek||myoclonische',\n",
       " 'C0016330||fluor||fluormolecuul',\n",
       " 'C0016330||fluor||fluorgas',\n",
       " 'C0016330||fluor||F',\n",
       " 'C0016330||fluor||moleculair fluor',\n",
       " 'C0016330||fluormolecuul||fluorgas',\n",
       " 'C0016330||fluormolecuul||F',\n",
       " 'C0016330||fluormolecuul||moleculair fluor',\n",
       " 'C0016330||fluorgas||F',\n",
       " 'C0016330||fluorgas||moleculair fluor',\n",
       " 'C0016330||F||moleculair fluor',\n",
       " 'C0038702||sulfonamide||sulfa-medicijnen',\n",
       " 'C1690571||overgevoeligheid||allergische aandoeningen',\n",
       " 'C1690571||overgevoelig||kattenallergie',\n",
       " 'C1690571||overgevoelig||overgevoeligheden',\n",
       " 'C1690571||overgevoeligheid||kattenallergie',\n",
       " 'C1690571||allergische reactie||allergische aandoeningen',\n",
       " 'C1690571||overgevoeligheid||allergieën',\n",
       " 'C1690571||allergische reacties||allergieën',\n",
       " 'C1690571||overgevoeligheid||allergische reacties',\n",
       " 'C1690571||overgevoeligheden||kattenallergie',\n",
       " 'C1690571||allergisch||allergische aandoeningen',\n",
       " 'C1690571||allergische||overgevoeligheidsreacties',\n",
       " 'C1690571||allergisch||allergische reactie',\n",
       " 'C1690571||allergische||allergieën',\n",
       " 'C1690571||overgevoeligheidsreacties||kattenallergie',\n",
       " 'C1690571||allergische reactie||kattenallergie',\n",
       " 'C1690571||allergisch||overgevoelig',\n",
       " 'C1690571||allergische||allergische reactie',\n",
       " 'C1690571||allergisch||overgevoeligheden',\n",
       " 'C1690571||allergische||allergische reacties',\n",
       " 'C1690571||overgevoeligheidsreacties||allergische reactie',\n",
       " 'C1690571||allergische||allergisch',\n",
       " 'C1690571||allergieën||allergische aandoeningen',\n",
       " 'C1690571||allergische reacties||overgevoeligheden',\n",
       " 'C1690571||allergische reactie||overgevoelig',\n",
       " 'C1690571||overgevoeligheid||overgevoelig',\n",
       " 'C1690571||allergische||kattenallergie',\n",
       " 'C1690571||overgevoeligheden||allergische aandoeningen',\n",
       " 'C1690571||allergisch||kattenallergie',\n",
       " 'C1690571||allergisch||allergieën',\n",
       " 'C1690571||allergische reacties||overgevoelig',\n",
       " 'C1690571||allergieën||overgevoelig',\n",
       " 'C1690571||overgevoeligheidsreacties||overgevoeligheden',\n",
       " 'C1690571||allergisch||overgevoeligheid',\n",
       " 'C1690571||kattenallergie||allergische aandoeningen',\n",
       " 'C1690571||overgevoeligheidsreacties||allergische reacties',\n",
       " 'C1690571||allergieën||kattenallergie',\n",
       " 'C1690571||overgevoeligheidsreacties||overgevoelig',\n",
       " 'C1690571||allergische reacties||kattenallergie',\n",
       " 'C1690571||allergische reactie||overgevoeligheden',\n",
       " 'C1690571||allergische||overgevoeligheden',\n",
       " 'C1690571||allergisch||allergische reacties',\n",
       " 'C1690571||overgevoelig||allergische aandoeningen',\n",
       " 'C1690571||overgevoeligheidsreacties||allergische aandoeningen',\n",
       " 'C1690571||overgevoeligheid||allergische reactie',\n",
       " 'C1690571||allergieën||overgevoeligheden',\n",
       " 'C1690571||allergisch||overgevoeligheidsreacties',\n",
       " 'C1690571||overgevoeligheidsreacties||allergieën',\n",
       " 'C1690571||allergische reacties||allergische reactie',\n",
       " 'C1690571||overgevoeligheidsreacties||overgevoeligheid',\n",
       " 'C1690571||overgevoeligheid||overgevoeligheden',\n",
       " 'C5203670||coronamaatregelen||COVID-19-pandemie',\n",
       " 'C5203670||COVID-19||coronapatiënt',\n",
       " 'C5203670||Coronavirus||covid-19',\n",
       " 'C5203670||coronabesmetting||het coronavirus',\n",
       " 'C5203670||corona||coronaviruspandemie',\n",
       " 'C5203670||coronavirus||coronacrisis',\n",
       " 'C5203670||covid-19||COVID-19-',\n",
       " 'C5203670||coronamaatregelen||covidbesmetting',\n",
       " 'C5203670||COVID-19||corona-infectie',\n",
       " 'C5203670||Covid||coronapositieve',\n",
       " 'C5203670||Coronacrisis||Covid',\n",
       " 'C5203670||coronamaatregelen||coronabesmetting',\n",
       " 'C5203670||Corona||covidbesmettingen',\n",
       " 'C5203670||COVID-19||COVID-19-pandemie',\n",
       " 'C5203670||COVID||coronacrisis',\n",
       " 'C5203670||COVID||covidbesmettingen',\n",
       " 'C5203670||COVID-19||Covid',\n",
       " 'C5203670||coronabesmetting||Covid19',\n",
       " 'C5203670||Coronavirus||coronavirusinfectie',\n",
       " 'C5203670||coronamaatregelen||Covid',\n",
       " 'C5203670||coronavirusinfectie||COVID-19-pandemie',\n",
       " 'C5203670||coronapandemie||Coronavirus',\n",
       " 'C5203670||coronamaatregelen||Corona',\n",
       " 'C5203670||Coronavirus||corona-infectie',\n",
       " 'C5203670||Covid-19||coronacrisis',\n",
       " 'C5203670||COVID||coronapositieve',\n",
       " 'C5203670||Coronacrisis||coronapatiënt',\n",
       " 'C5203670||corona-infectie||coronabesmettingen',\n",
       " 'C5203670||Coronacrisis||coronabesmettingen']"
      ]
     },
     "execution_count": 25,
     "metadata": {},
     "output_type": "execute_result"
    }
   ],
   "source": [
    "pos_pairs[:100]"
   ]
  },
  {
   "cell_type": "markdown",
   "metadata": {},
   "source": [
    "### save the pairwise positive training file"
   ]
  },
  {
   "cell_type": "code",
   "execution_count": 26,
   "metadata": {},
   "outputs": [],
   "source": [
    "with open('./training_file_NLWB_no_dup_pairwise_pair_th50.txt', 'w') as f:\n",
    "    for line in pos_pairs:\n",
    "        f.write(\"%s\\n\" % line)"
   ]
  }
 ],
 "metadata": {
  "kernelspec": {
   "display_name": "Python 3 (ipykernel)",
   "language": "python",
   "name": "python3"
  },
  "language_info": {
   "codemirror_mode": {
    "name": "ipython",
    "version": 3
   },
   "file_extension": ".py",
   "mimetype": "text/x-python",
   "name": "python",
   "nbconvert_exporter": "python",
   "pygments_lexer": "ipython3",
   "version": "3.8.10"
  },
  "toc": {
   "base_numbering": 1,
   "nav_menu": {},
   "number_sections": true,
   "sideBar": true,
   "skip_h1_title": false,
   "title_cell": "Table of Contents",
   "title_sidebar": "Contents",
   "toc_cell": false,
   "toc_position": {
    "height": "calc(100% - 180px)",
    "left": "10px",
    "top": "150px",
    "width": "277.1875px"
   },
   "toc_section_display": true,
   "toc_window_display": true
  }
 },
 "nbformat": 4,
 "nbformat_minor": 4
}
