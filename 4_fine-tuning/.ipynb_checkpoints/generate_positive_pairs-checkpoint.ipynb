{
 "cells": [
  {
   "cell_type": "code",
   "execution_count": 2,
   "metadata": {},
   "outputs": [],
   "source": [
    "from tqdm.auto import tqdm\n",
    "import itertools\n",
    "import random\n",
    "import pickle as pkl\n",
    "import pandas as pd"
   ]
  },
  {
   "cell_type": "markdown",
   "metadata": {},
   "source": [
    "## Load Dutch UMLS"
   ]
  },
  {
   "cell_type": "code",
   "execution_count": 3,
   "metadata": {},
   "outputs": [],
   "source": [
    "df = pd.read_csv('dataset.csv')"
   ]
  },
  {
   "cell_type": "code",
   "execution_count": 4,
   "metadata": {},
   "outputs": [
    {
     "data": {
      "text/html": [
       "<div>\n",
       "<style scoped>\n",
       "    .dataframe tbody tr th:only-of-type {\n",
       "        vertical-align: middle;\n",
       "    }\n",
       "\n",
       "    .dataframe tbody tr th {\n",
       "        vertical-align: top;\n",
       "    }\n",
       "\n",
       "    .dataframe thead th {\n",
       "        text-align: right;\n",
       "    }\n",
       "</style>\n",
       "<table border=\"1\" class=\"dataframe\">\n",
       "  <thead>\n",
       "    <tr style=\"text-align: right;\">\n",
       "      <th></th>\n",
       "      <th>id</th>\n",
       "      <th>mention</th>\n",
       "      <th>cui</th>\n",
       "      <th>start_index</th>\n",
       "      <th>end_index</th>\n",
       "      <th>sentence</th>\n",
       "      <th>uniq_cui</th>\n",
       "    </tr>\n",
       "  </thead>\n",
       "  <tbody>\n",
       "    <tr>\n",
       "      <th>0</th>\n",
       "      <td>0</td>\n",
       "      <td>aminozuren</td>\n",
       "      <td>['C0002520']</td>\n",
       "      <td>57</td>\n",
       "      <td>67</td>\n",
       "      <td>Uit simpele organische stoffen ontstonden mate...</td>\n",
       "      <td>C0002520</td>\n",
       "    </tr>\n",
       "    <tr>\n",
       "      <th>1</th>\n",
       "      <td>1</td>\n",
       "      <td>kopersulfaat</td>\n",
       "      <td>['C0056301']</td>\n",
       "      <td>52</td>\n",
       "      <td>64</td>\n",
       "      <td>Onder strikte voorwaarden is een bladbespuitin...</td>\n",
       "      <td>C0056301</td>\n",
       "    </tr>\n",
       "    <tr>\n",
       "      <th>2</th>\n",
       "      <td>2</td>\n",
       "      <td>kopen</td>\n",
       "      <td>['C0520949']</td>\n",
       "      <td>171</td>\n",
       "      <td>176</td>\n",
       "      <td>Individuele armoede kan het gevolg zijn van ee...</td>\n",
       "      <td>C0520949</td>\n",
       "    </tr>\n",
       "    <tr>\n",
       "      <th>3</th>\n",
       "      <td>3</td>\n",
       "      <td>ziekte van Van Leeuwenhoek</td>\n",
       "      <td>['C0027066', 'C1854302']</td>\n",
       "      <td>168</td>\n",
       "      <td>194</td>\n",
       "      <td>Volgens de verhalen dicteerde hij op zijn ster...</td>\n",
       "      <td>'C1854302</td>\n",
       "    </tr>\n",
       "    <tr>\n",
       "      <th>4</th>\n",
       "      <td>4</td>\n",
       "      <td>retina</td>\n",
       "      <td>['C0035298']</td>\n",
       "      <td>16</td>\n",
       "      <td>22</td>\n",
       "      <td>Het netvlies of retina is beweeglijk zodat het...</td>\n",
       "      <td>C0035298</td>\n",
       "    </tr>\n",
       "    <tr>\n",
       "      <th>...</th>\n",
       "      <td>...</td>\n",
       "      <td>...</td>\n",
       "      <td>...</td>\n",
       "      <td>...</td>\n",
       "      <td>...</td>\n",
       "      <td>...</td>\n",
       "      <td>...</td>\n",
       "    </tr>\n",
       "    <tr>\n",
       "      <th>7872</th>\n",
       "      <td>8348</td>\n",
       "      <td>atomair</td>\n",
       "      <td>['C0567415']</td>\n",
       "      <td>65</td>\n",
       "      <td>72</td>\n",
       "      <td>Zij geloven dat het mogelijk is om de trilling...</td>\n",
       "      <td>C0567415</td>\n",
       "    </tr>\n",
       "    <tr>\n",
       "      <th>7873</th>\n",
       "      <td>8349</td>\n",
       "      <td>spaanplaatgas</td>\n",
       "      <td>['C0016564']</td>\n",
       "      <td>37</td>\n",
       "      <td>50</td>\n",
       "      <td>Vanwege jarenlange blootstelling aan spaanplaa...</td>\n",
       "      <td>C0016564</td>\n",
       "    </tr>\n",
       "    <tr>\n",
       "      <th>7874</th>\n",
       "      <td>8350</td>\n",
       "      <td>Hartcatheterisatie</td>\n",
       "      <td>['C0085532']</td>\n",
       "      <td>77</td>\n",
       "      <td>95</td>\n",
       "      <td>Chamuleaus enthousiasme voor de cardiologie we...</td>\n",
       "      <td>C0085532</td>\n",
       "    </tr>\n",
       "    <tr>\n",
       "      <th>7875</th>\n",
       "      <td>8351</td>\n",
       "      <td>anxiolytische</td>\n",
       "      <td>['C0040616']</td>\n",
       "      <td>14</td>\n",
       "      <td>27</td>\n",
       "      <td>De stof bezit anxiolytische, anticonvulsieve, ...</td>\n",
       "      <td>C0040616</td>\n",
       "    </tr>\n",
       "    <tr>\n",
       "      <th>7876</th>\n",
       "      <td>8352</td>\n",
       "      <td>anticonvulsieve</td>\n",
       "      <td>['C0003286']</td>\n",
       "      <td>29</td>\n",
       "      <td>44</td>\n",
       "      <td>De stof bezit anxiolytische, anticonvulsieve, ...</td>\n",
       "      <td>C0003286</td>\n",
       "    </tr>\n",
       "  </tbody>\n",
       "</table>\n",
       "<p>7877 rows × 7 columns</p>\n",
       "</div>"
      ],
      "text/plain": [
       "        id                     mention                       cui  start_index  \\\n",
       "0        0                  aminozuren              ['C0002520']           57   \n",
       "1        1                kopersulfaat              ['C0056301']           52   \n",
       "2        2                       kopen              ['C0520949']          171   \n",
       "3        3  ziekte van Van Leeuwenhoek  ['C0027066', 'C1854302']          168   \n",
       "4        4                      retina              ['C0035298']           16   \n",
       "...    ...                         ...                       ...          ...   \n",
       "7872  8348                     atomair              ['C0567415']           65   \n",
       "7873  8349               spaanplaatgas              ['C0016564']           37   \n",
       "7874  8350          Hartcatheterisatie              ['C0085532']           77   \n",
       "7875  8351               anxiolytische              ['C0040616']           14   \n",
       "7876  8352             anticonvulsieve              ['C0003286']           29   \n",
       "\n",
       "      end_index                                           sentence    uniq_cui  \n",
       "0            67  Uit simpele organische stoffen ontstonden mate...    C0002520  \n",
       "1            64  Onder strikte voorwaarden is een bladbespuitin...    C0056301  \n",
       "2           176  Individuele armoede kan het gevolg zijn van ee...    C0520949  \n",
       "3           194  Volgens de verhalen dicteerde hij op zijn ster...   'C1854302  \n",
       "4            22  Het netvlies of retina is beweeglijk zodat het...    C0035298  \n",
       "...         ...                                                ...         ...  \n",
       "7872         72  Zij geloven dat het mogelijk is om de trilling...    C0567415  \n",
       "7873         50  Vanwege jarenlange blootstelling aan spaanplaa...    C0016564  \n",
       "7874         95  Chamuleaus enthousiasme voor de cardiologie we...    C0085532  \n",
       "7875         27  De stof bezit anxiolytische, anticonvulsieve, ...    C0040616  \n",
       "7876         44  De stof bezit anxiolytische, anticonvulsieve, ...    C0003286  \n",
       "\n",
       "[7877 rows x 7 columns]"
      ]
     },
     "execution_count": 4,
     "metadata": {},
     "output_type": "execute_result"
    }
   ],
   "source": [
    "df['uniq_cui'] = df['cui'].apply()"
   ]
  },
  {
   "cell_type": "code",
   "execution_count": 3,
   "metadata": {},
   "outputs": [],
   "source": [
    "cleaned = []\n",
    "\n",
    "for index, concept in df.iterrows():\n",
    "    cleaned.append(f\"{concept['cui']}||{concept['name']}\")"
   ]
  },
  {
   "cell_type": "code",
   "execution_count": 13,
   "metadata": {},
   "outputs": [
    {
     "data": {
      "text/plain": [
       "['C0000039||1,2-dipalmitoylphosphatidylcholine',\n",
       " 'C0000052||1,4-alfa-glucaan vertakkend enzym',\n",
       " 'C0000097||methyl-fenyltetrahydropyridine',\n",
       " 'C0000097||1-methyl-4-fenyl-1,2,3,6-tetrahydropyridine',\n",
       " 'C0000097||MPTP',\n",
       " 'C0000172||18-hydroxycorticosteron',\n",
       " 'C0000215||2,4,5-trichloorfenoxyazijnzuur',\n",
       " 'C0000215||2,4,5-t',\n",
       " 'C0000220||2,4-dichloorfenoxyazijnzuur',\n",
       " 'C0000220||2,4-d',\n",
       " 'C0000266||parlodel',\n",
       " 'C0000294||mesna',\n",
       " 'C0000294||mercapto-ethaansulfonzuur',\n",
       " 'C0000294||natrium-2-mercapto-ethaansulfonaat',\n",
       " 'C0000378||DOPS',\n",
       " 'C0000378||droxidopa',\n",
       " 'C0000378||l-DOPS',\n",
       " 'C0000378||l-dihydroxyphenylserine',\n",
       " 'C0000378||l-threo-dihydroxyphenylserine',\n",
       " 'C0000379||3,4-methylenedioxyamphetamine',\n",
       " 'C0000379||MDA',\n",
       " 'C0000379||methylenedioxyamphetamine',\n",
       " 'C0000379||tenamfetamina',\n",
       " 'C0000379||tenamfetamine',\n",
       " 'C0000379||tenamfetaminum',\n",
       " 'C0000392||beta-alanine',\n",
       " 'C0000402||meglutol',\n",
       " 'C0000464||docosahexaenoate',\n",
       " 'C0000473||para-aminobenzoëzuur',\n",
       " 'C0000473||1-amino-4-carboxybenzene']"
      ]
     },
     "execution_count": 13,
     "metadata": {},
     "output_type": "execute_result"
    }
   ],
   "source": [
    "cleaned[:30]"
   ]
  },
  {
   "cell_type": "markdown",
   "metadata": {},
   "source": [
    "## Create mappings: idx2cui and cui2string dicts"
   ]
  },
  {
   "cell_type": "code",
   "execution_count": 14,
   "metadata": {},
   "outputs": [],
   "source": [
    "idx2cui = {}\n",
    "cui2string = {}\n",
    "\n",
    "for i, line in enumerate(cleaned):\n",
    "    splitted = line.split('||')\n",
    "    idx2cui[i] = splitted[0]\n",
    "    cui2string[splitted[0]] = splitted[1]\n",
    "\n",
    "pkl.dump(idx2cui, open('idx2cui', \"wb\"))\n",
    "pkl.dump(cui2string, open('cui2string', \"wb\"))"
   ]
  },
  {
   "cell_type": "markdown",
   "metadata": {},
   "source": [
    "## positive pairs generation"
   ]
  },
  {
   "cell_type": "code",
   "execution_count": 18,
   "metadata": {},
   "outputs": [
    {
     "data": {
      "application/vnd.jupyter.widget-view+json": {
       "model_id": "54486ae549ca42529e729c2b59906680",
       "version_major": 2,
       "version_minor": 0
      },
      "text/plain": [
       "  0%|          | 0/752536 [00:00<?, ?it/s]"
      ]
     },
     "metadata": {},
     "output_type": "display_data"
    }
   ],
   "source": [
    "umls_dict = {} # constrauct cui to list of name dict, again\n",
    "for line in tqdm(cleaned):\n",
    "    cui, name = line.split(\"||\")\n",
    "    if cui in umls_dict:\n",
    "        umls_dict[cui].append(name)\n",
    "    else:\n",
    "        umls_dict[cui] = [name]"
   ]
  },
  {
   "cell_type": "markdown",
   "metadata": {},
   "source": [
    "### generate!"
   ]
  },
  {
   "cell_type": "code",
   "execution_count": 19,
   "metadata": {},
   "outputs": [],
   "source": [
    "def gen_pairs(input_list):\n",
    "    return list(itertools.combinations(input_list, r=2))"
   ]
  },
  {
   "cell_type": "code",
   "execution_count": 21,
   "metadata": {},
   "outputs": [
    {
     "data": {
      "application/vnd.jupyter.widget-view+json": {
       "model_id": "710adef8f2ac4b74836738e367ca3326",
       "version_major": 2,
       "version_minor": 0
      },
      "text/plain": [
       "  0%|          | 0/366071 [00:00<?, ?it/s]"
      ]
     },
     "metadata": {},
     "output_type": "display_data"
    }
   ],
   "source": [
    "pos_pairs = []\n",
    "for k,v in tqdm(umls_dict.items()):\n",
    "    pairs = gen_pairs(v)\n",
    "    if len(pairs)>50: # if >50 pairs, then trim to 50 pairs\n",
    "        pairs = random.sample(pairs, 50)\n",
    "    for p in pairs:\n",
    "        line = str(k) + \"||\" + p[0] + \"||\" + p[1]\n",
    "        pos_pairs.append(line)"
   ]
  },
  {
   "cell_type": "code",
   "execution_count": 23,
   "metadata": {},
   "outputs": [
    {
     "data": {
      "text/plain": [
       "['C0000097||methyl-fenyltetrahydropyridine||1-methyl-4-fenyl-1,2,3,6-tetrahydropyridine',\n",
       " 'C0000097||methyl-fenyltetrahydropyridine||MPTP',\n",
       " 'C0000097||1-methyl-4-fenyl-1,2,3,6-tetrahydropyridine||MPTP',\n",
       " 'C0000215||2,4,5-trichloorfenoxyazijnzuur||2,4,5-t',\n",
       " 'C0000220||2,4-dichloorfenoxyazijnzuur||2,4-d',\n",
       " 'C0000294||mesna||mercapto-ethaansulfonzuur',\n",
       " 'C0000294||mesna||natrium-2-mercapto-ethaansulfonaat',\n",
       " 'C0000294||mercapto-ethaansulfonzuur||natrium-2-mercapto-ethaansulfonaat',\n",
       " 'C0000378||DOPS||droxidopa',\n",
       " 'C0000378||DOPS||l-DOPS',\n",
       " 'C0000378||DOPS||l-dihydroxyphenylserine',\n",
       " 'C0000378||DOPS||l-threo-dihydroxyphenylserine',\n",
       " 'C0000378||droxidopa||l-DOPS',\n",
       " 'C0000378||droxidopa||l-dihydroxyphenylserine',\n",
       " 'C0000378||droxidopa||l-threo-dihydroxyphenylserine',\n",
       " 'C0000378||l-DOPS||l-dihydroxyphenylserine',\n",
       " 'C0000378||l-DOPS||l-threo-dihydroxyphenylserine',\n",
       " 'C0000378||l-dihydroxyphenylserine||l-threo-dihydroxyphenylserine',\n",
       " 'C0000379||3,4-methylenedioxyamphetamine||MDA',\n",
       " 'C0000379||3,4-methylenedioxyamphetamine||methylenedioxyamphetamine',\n",
       " 'C0000379||3,4-methylenedioxyamphetamine||tenamfetamina',\n",
       " 'C0000379||3,4-methylenedioxyamphetamine||tenamfetamine',\n",
       " 'C0000379||3,4-methylenedioxyamphetamine||tenamfetaminum',\n",
       " 'C0000379||MDA||methylenedioxyamphetamine',\n",
       " 'C0000379||MDA||tenamfetamina',\n",
       " 'C0000379||MDA||tenamfetamine',\n",
       " 'C0000379||MDA||tenamfetaminum',\n",
       " 'C0000379||methylenedioxyamphetamine||tenamfetamina',\n",
       " 'C0000379||methylenedioxyamphetamine||tenamfetamine',\n",
       " 'C0000379||methylenedioxyamphetamine||tenamfetaminum',\n",
       " 'C0000379||tenamfetamina||tenamfetamine',\n",
       " 'C0000379||tenamfetamina||tenamfetaminum',\n",
       " 'C0000379||tenamfetamine||tenamfetaminum',\n",
       " 'C0000473||para-aminobenzoëzuur||1-amino-4-carboxybenzene',\n",
       " 'C0000473||para-aminobenzoëzuur||4-aminobenzoic acid',\n",
       " 'C0000473||para-aminobenzoëzuur||4-carboxyaniline',\n",
       " 'C0000473||para-aminobenzoëzuur||aminobenzoic acid',\n",
       " 'C0000473||para-aminobenzoëzuur||p-Aminobenzoic acid',\n",
       " 'C0000473||para-aminobenzoëzuur||p-carboxyaniline',\n",
       " 'C0000473||para-aminobenzoëzuur||p-carboxyphenylamine',\n",
       " 'C0000473||para-aminobenzoëzuur||para-Aminobenzoic acid',\n",
       " 'C0000473||1-amino-4-carboxybenzene||4-aminobenzoic acid',\n",
       " 'C0000473||1-amino-4-carboxybenzene||4-carboxyaniline',\n",
       " 'C0000473||1-amino-4-carboxybenzene||aminobenzoic acid',\n",
       " 'C0000473||1-amino-4-carboxybenzene||p-Aminobenzoic acid',\n",
       " 'C0000473||1-amino-4-carboxybenzene||p-carboxyaniline',\n",
       " 'C0000473||1-amino-4-carboxybenzene||p-carboxyphenylamine',\n",
       " 'C0000473||1-amino-4-carboxybenzene||para-Aminobenzoic acid',\n",
       " 'C0000473||4-aminobenzoic acid||4-carboxyaniline',\n",
       " 'C0000473||4-aminobenzoic acid||aminobenzoic acid',\n",
       " 'C0000473||4-aminobenzoic acid||p-Aminobenzoic acid',\n",
       " 'C0000473||4-aminobenzoic acid||p-carboxyaniline',\n",
       " 'C0000473||4-aminobenzoic acid||p-carboxyphenylamine',\n",
       " 'C0000473||4-aminobenzoic acid||para-Aminobenzoic acid',\n",
       " 'C0000473||4-carboxyaniline||aminobenzoic acid',\n",
       " 'C0000473||4-carboxyaniline||p-Aminobenzoic acid',\n",
       " 'C0000473||4-carboxyaniline||p-carboxyaniline',\n",
       " 'C0000473||4-carboxyaniline||p-carboxyphenylamine',\n",
       " 'C0000473||4-carboxyaniline||para-Aminobenzoic acid',\n",
       " 'C0000473||aminobenzoic acid||p-Aminobenzoic acid',\n",
       " 'C0000473||aminobenzoic acid||p-carboxyaniline',\n",
       " 'C0000473||aminobenzoic acid||p-carboxyphenylamine',\n",
       " 'C0000473||aminobenzoic acid||para-Aminobenzoic acid',\n",
       " 'C0000473||p-Aminobenzoic acid||p-carboxyaniline',\n",
       " 'C0000473||p-Aminobenzoic acid||p-carboxyphenylamine',\n",
       " 'C0000473||p-Aminobenzoic acid||para-Aminobenzoic acid',\n",
       " 'C0000473||p-carboxyaniline||p-carboxyphenylamine',\n",
       " 'C0000473||p-carboxyaniline||para-Aminobenzoic acid',\n",
       " 'C0000473||p-carboxyphenylamine||para-Aminobenzoic acid',\n",
       " 'C0000477||fampridine||4-AP',\n",
       " 'C0000477||fampridine||4-aminopyridine',\n",
       " 'C0000477||fampridine||4-pyridinamine',\n",
       " 'C0000477||fampridine||4-pyridylamine',\n",
       " 'C0000477||fampridine||dalfampridine',\n",
       " 'C0000477||fampridine||fampridina',\n",
       " 'C0000477||fampridine||fampridinum',\n",
       " 'C0000477||fampridine||p-aminopyridine',\n",
       " 'C0000477||fampridine||γ-aminopyridine',\n",
       " 'C0000477||4-AP||4-aminopyridine',\n",
       " 'C0000477||4-AP||4-pyridinamine',\n",
       " 'C0000477||4-AP||4-pyridylamine',\n",
       " 'C0000477||4-AP||dalfampridine',\n",
       " 'C0000477||4-AP||fampridina',\n",
       " 'C0000477||4-AP||fampridinum',\n",
       " 'C0000477||4-AP||p-aminopyridine',\n",
       " 'C0000477||4-AP||γ-aminopyridine',\n",
       " 'C0000477||4-aminopyridine||4-pyridinamine',\n",
       " 'C0000477||4-aminopyridine||4-pyridylamine',\n",
       " 'C0000477||4-aminopyridine||dalfampridine',\n",
       " 'C0000477||4-aminopyridine||fampridina',\n",
       " 'C0000477||4-aminopyridine||fampridinum',\n",
       " 'C0000477||4-aminopyridine||p-aminopyridine',\n",
       " 'C0000477||4-aminopyridine||γ-aminopyridine',\n",
       " 'C0000477||4-pyridinamine||4-pyridylamine',\n",
       " 'C0000477||4-pyridinamine||dalfampridine',\n",
       " 'C0000477||4-pyridinamine||fampridina',\n",
       " 'C0000477||4-pyridinamine||fampridinum',\n",
       " 'C0000477||4-pyridinamine||p-aminopyridine',\n",
       " 'C0000477||4-pyridinamine||γ-aminopyridine',\n",
       " 'C0000477||4-pyridylamine||dalfampridine']"
      ]
     },
     "execution_count": 23,
     "metadata": {},
     "output_type": "execute_result"
    }
   ],
   "source": [
    "pos_pairs[:100]"
   ]
  },
  {
   "cell_type": "markdown",
   "metadata": {},
   "source": [
    "### save the pairwise positive training file"
   ]
  },
  {
   "cell_type": "code",
   "execution_count": 25,
   "metadata": {},
   "outputs": [],
   "source": [
    "with open('./training_file_umls2023aa_nl_no_dup_pairwise_pair_th50_filtered-categories.txt', 'w') as f:\n",
    "    for line in pos_pairs:\n",
    "        f.write(\"%s\\n\" % line)"
   ]
  }
 ],
 "metadata": {
  "kernelspec": {
   "display_name": "Python 3 (ipykernel)",
   "language": "python",
   "name": "python3"
  },
  "language_info": {
   "codemirror_mode": {
    "name": "ipython",
    "version": 3
   },
   "file_extension": ".py",
   "mimetype": "text/x-python",
   "name": "python",
   "nbconvert_exporter": "python",
   "pygments_lexer": "ipython3",
   "version": "3.8.10"
  },
  "toc": {
   "base_numbering": 1,
   "nav_menu": {},
   "number_sections": true,
   "sideBar": true,
   "skip_h1_title": false,
   "title_cell": "Table of Contents",
   "title_sidebar": "Contents",
   "toc_cell": false,
   "toc_position": {
    "height": "calc(100% - 180px)",
    "left": "10px",
    "top": "150px",
    "width": "277.1875px"
   },
   "toc_section_display": true,
   "toc_window_display": true
  }
 },
 "nbformat": 4,
 "nbformat_minor": 4
}
