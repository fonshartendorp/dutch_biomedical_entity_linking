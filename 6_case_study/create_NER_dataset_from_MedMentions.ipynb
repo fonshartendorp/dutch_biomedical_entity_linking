{
 "cells": [
  {
   "cell_type": "code",
   "execution_count": null,
   "id": "b8645ede",
   "metadata": {},
   "outputs": [],
   "source": [
    "import pandas as pd"
   ]
  },
  {
   "cell_type": "markdown",
   "id": "c577fed4",
   "metadata": {},
   "source": [
    "## MedMentions Dutch"
   ]
  },
  {
   "cell_type": "code",
   "execution_count": null,
   "id": "5783d68b",
   "metadata": {},
   "outputs": [],
   "source": [
    "df = pd.read_csv('mm_dut_no_nan.csv')"
   ]
  },
  {
   "cell_type": "code",
   "execution_count": null,
   "id": "5e872db3",
   "metadata": {},
   "outputs": [],
   "source": [
    "df"
   ]
  },
  {
   "cell_type": "code",
   "execution_count": null,
   "id": "b3a1eabf",
   "metadata": {},
   "outputs": [],
   "source": [
    "df['sentence_id'].nunique()"
   ]
  },
  {
   "cell_type": "code",
   "execution_count": null,
   "id": "78f97502",
   "metadata": {},
   "outputs": [],
   "source": [
    "df.count()"
   ]
  },
  {
   "cell_type": "code",
   "execution_count": null,
   "id": "425143b1",
   "metadata": {},
   "outputs": [],
   "source": [
    "df['sentence'] = df[['sentence_id','words', 'labels']].groupby(['sentence_id'])['words'].transform(lambda x: ' '.join(x))\n",
    "df['word_labels'] = df[['sentence_id','words','labels']].groupby(['sentence_id'])['labels'].transform(lambda x: ','.join(x))\n",
    "df.head()"
   ]
  },
  {
   "cell_type": "code",
   "execution_count": null,
   "id": "9586ce6c",
   "metadata": {},
   "outputs": [],
   "source": [
    "label2id = {k: v for v, k in enumerate(df.labels.unique())}\n",
    "id2label = {v: k for v, k in enumerate(df.labels.unique())}"
   ]
  },
  {
   "cell_type": "code",
   "execution_count": null,
   "id": "0d0fcb95",
   "metadata": {},
   "outputs": [],
   "source": [
    "df_sentences = df[[\"sentence\", \"word_labels\"]].drop_duplicates().reset_index(drop=True)\n",
    "df_sentences.head()"
   ]
  },
  {
   "cell_type": "code",
   "execution_count": null,
   "id": "f7f19729",
   "metadata": {},
   "outputs": [],
   "source": [
    "df_sentences.count()"
   ]
  },
  {
   "cell_type": "code",
   "execution_count": null,
   "id": "73de867a",
   "metadata": {},
   "outputs": [],
   "source": [
    "df_sentences.iloc[3]['sentence']"
   ]
  },
  {
   "cell_type": "code",
   "execution_count": null,
   "id": "fe96a944",
   "metadata": {},
   "outputs": [],
   "source": [
    "df_sentences.iloc[3]['word_labels']"
   ]
  },
  {
   "cell_type": "code",
   "execution_count": null,
   "id": "b399b33f",
   "metadata": {},
   "outputs": [],
   "source": [
    "df_sentences.to_csv('medmentions_dutch.csv')"
   ]
  }
 ],
 "metadata": {
  "kernelspec": {
   "display_name": "Python 3 (ipykernel)",
   "language": "python",
   "name": "python3"
  },
  "language_info": {
   "codemirror_mode": {
    "name": "ipython",
    "version": 3
   },
   "file_extension": ".py",
   "mimetype": "text/x-python",
   "name": "python",
   "nbconvert_exporter": "python",
   "pygments_lexer": "ipython3",
   "version": "3.8.10"
  }
 },
 "nbformat": 4,
 "nbformat_minor": 5
}
